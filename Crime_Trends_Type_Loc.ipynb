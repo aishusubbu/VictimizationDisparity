{
 "cells": [
  {
   "cell_type": "code",
   "execution_count": null,
   "id": "9dfeb795",
   "metadata": {},
   "outputs": [],
   "source": [
    "import pandas as pd\n",
    "import matplotlib.pyplot as plt\n",
    "import numpy as np \n",
    "import hvplot.pandas"
   ]
  },
  {
   "cell_type": "code",
   "execution_count": null,
   "id": "7eb071df",
   "metadata": {},
   "outputs": [],
   "source": [
    "#data\n",
    "df=pd.read_csv('Crimes_-_2001_to_Present (1).csv', low_memory=False)"
   ]
  },
  {
   "cell_type": "code",
   "execution_count": null,
   "id": "d3353272",
   "metadata": {
    "scrolled": true
   },
   "outputs": [],
   "source": [
    "df"
   ]
  },
  {
   "cell_type": "code",
   "execution_count": null,
   "id": "0a03730e",
   "metadata": {},
   "outputs": [],
   "source": [
    "#Year not complete, data may skew our findings\n",
    "df = df.drop(df[df.Year == 2023].index)"
   ]
  },
  {
   "cell_type": "code",
   "execution_count": null,
   "id": "8e009444",
   "metadata": {},
   "outputs": [],
   "source": [
    "# Get the total number of crimes per year\n",
    "total_crimes_per_year = df.groupby(\"Year\").size()\n",
    "#total_crimes_per_year"
   ]
  },
  {
   "cell_type": "code",
   "execution_count": null,
   "id": "76162900",
   "metadata": {},
   "outputs": [],
   "source": [
    "#df[col].unique()\n",
    "domestic_types = []\n",
    "#df['all_domestic_types']\n",
    "#domestic_types = [i for i in df['Primary Type'] if df['Domestic'] == True]\n",
    "domestic_types = np.where(df.Domestic == True,df['Primary Type'], 'NA')\n",
    "len([i for i in df['Domestic'] if i == True])"
   ]
  },
  {
   "cell_type": "markdown",
   "id": "5f0bb8f9",
   "metadata": {},
   "source": [
    "We can see that nearly 1 out of 7 cases are classified as \"Domestic\" in nature, but CPD's definition of Domestic crime is very broad and encompasses all crimes that are committed in or close to victim's or the perpetrator's residence. Let us create a classfication called Domestic Violence which encompasses crime types of \"ASSAULT', 'BATTERY', 'CRIM SEXUAL ASSAULT', 'CRIMINAL SEXUAL ASSAULT', 'DOMESTIC VIOLENCE', 'HOMICIDE' "
   ]
  },
  {
   "cell_type": "code",
   "execution_count": null,
   "id": "c1d03ff8",
   "metadata": {},
   "outputs": [],
   "source": [
    "# Plot the total number of crimes per year\n",
    "plt.plot(total_crimes_per_year.index, total_crimes_per_year.values)\n",
    "plt.title(\"Total Number of Crimes per Year in Chicago\")\n",
    "plt.xlabel(\"Year\")\n",
    "plt.ylabel(\"Total Number of Crimes\")\n",
    "plt.savefig('Crime_Trend_Full_Data.png', bbox_inches='tight')\n",
    "#plt.show()\n",
    "\n",
    "# Get the total number of specific crimes per year\n",
    "#specific_crimes_per_year = df[df[\"primary_type\"] == \"BURGLARY\"].groupby(\"year\").size()\n"
   ]
  },
  {
   "cell_type": "code",
   "execution_count": null,
   "id": "7d35952a",
   "metadata": {},
   "outputs": [],
   "source": [
    "primary_crime_types = df[\"Primary Type\"].unique().tolist()\n",
    "len(primary_crime_types)"
   ]
  },
  {
   "cell_type": "code",
   "execution_count": null,
   "id": "562f2a42",
   "metadata": {
    "scrolled": false
   },
   "outputs": [],
   "source": [
    "fig, axs = plt.subplots(nrows=9, ncols=4, figsize=(25, 25))\n",
    "plt.subplots_adjust(hspace=1.5)\n",
    "fig.suptitle(\"Crime trend by Type (Historical)\", fontsize=18, y=0.95)\n",
    "\n",
    "for i, ax in zip(primary_crime_types, axs.ravel()):\n",
    "    # Plot the total number of specific crimes per year\n",
    "    df[df[\"Primary Type\"] == i].groupby(\"Year\").size().plot(ax=ax)\n",
    "    #ax.plot(specific_crimes_per_year.index, specific_crimes_per_year.values)\n",
    "    #plt.xticks(specific_crimes_per_year.index)\n",
    "    ax.set_title(\"{}\".format(i))\n",
    "    #ax.get_legend().remove()\n",
    "    ax.set_xlabel(\"\")\n",
    "plt.savefig('Crime_Trend_By_Type.png', bbox_inches='tight')\n",
    "#plt.show()\n"
   ]
  },
  {
   "cell_type": "code",
   "execution_count": null,
   "id": "005ef643",
   "metadata": {},
   "outputs": [],
   "source": [
    "# Group the data by community area and year, and count the number of crimes\n",
    "crimes_by_community_and_year = df.groupby(['Community Area', 'Year'])['ID'].count().reset_index()\n",
    "crimes_by_community_and_year.rename(columns={'ID': 'Count'}, inplace=True)"
   ]
  },
  {
   "cell_type": "code",
   "execution_count": null,
   "id": "d06c6c28",
   "metadata": {},
   "outputs": [],
   "source": [
    "len(crimes_by_community_and_year[\"Community Area\"].unique())"
   ]
  },
  {
   "cell_type": "code",
   "execution_count": null,
   "id": "b73c925e",
   "metadata": {},
   "outputs": [],
   "source": [
    "import plotly.graph_objs as go\n",
    "import pandas as pd\n",
    "import geopandas as gpd\n",
    "\n",
    "# Read in the community area shapefile\n",
    "community_areas = gpd.read_file('Geo_Location/geo_export_c7c8d269-801a-422d-a09a-95a6aa6caed7.shp')\n",
    "\n",
    "# Group the data by community area and year, and count the number of crimes\n",
    "crimes_by_community_and_year = df.groupby(['Community Area', 'Year'])['ID'].count().reset_index()\n",
    "crimes_by_community_and_year.rename(columns={'ID': 'Count'}, inplace=True)\n",
    "crimes_by_community_and_year['Community Area'] = crimes_by_community_and_year['Community Area'].astype(float).astype(int).astype(str)\n",
    "\n",
    "# Add a column with the name of the community area to the crimes_by_community_and_year dataframe\n",
    "area_names = community_areas[['area_num_1', 'community']].rename(columns={'area_num_1': 'Community Area'})\n",
    "crimes_by_community_and_year = pd.merge(crimes_by_community_and_year, area_names, on='Community Area')\n",
    "\n",
    "# Merge the crime data with the community area shapefile\n",
    "community_areas = community_areas.rename(columns={\"area_numbe\": \"Community Area\"})\n",
    "\n",
    "\n"
   ]
  },
  {
   "cell_type": "code",
   "execution_count": null,
   "id": "780a6266",
   "metadata": {},
   "outputs": [],
   "source": [
    "community_areas_crime = community_areas.merge(crimes_by_community_and_year, on='Community Area', how='left')"
   ]
  },
  {
   "cell_type": "code",
   "execution_count": null,
   "id": "c98b91ea",
   "metadata": {
    "scrolled": false
   },
   "outputs": [],
   "source": [
    "# Define the choropleth map\n",
    "fig = go.Figure(go.Choroplethmapbox(geojson=community_areas_crime.geometry.__geo_interface__,\n",
    "                                     locations=community_areas_crime.index,\n",
    "                                     z=community_areas_crime['Count'],\n",
    "                                     colorscale='Reds',\n",
    "                                     zmin=community_areas_crime['Count'].min(),\n",
    "                                     zmax=community_areas_crime['Count'].max(),\n",
    "                                     marker_opacity=0.7,\n",
    "                                     marker_line_width=0.5,\n",
    "                                     hovertemplate='<b>Community Area:</b> %{text}<br>' +\n",
    "                                                   '<b>Crime Count:</b> %{z}<br>' +\n",
    "                                                   '<extra><b>Historical Crime Trend:</b><br>' +\n",
    "                                                   '{}</extra>',\n",
    "                                     text=community_areas_crime['Community Area']))\n",
    "\n",
    "# Define the hover feature\n",
    "fig.update_layout(mapbox_style=\"carto-positron\",\n",
    "                  mapbox_zoom=9.5,\n",
    "                  mapbox_center={\"lat\": 41.88, \"lon\": -87.63},\n",
    "                  margin={\"r\":0,\"t\":0,\"l\":0,\"b\":0},\n",
    "                  hovermode='closest')\n",
    "\n",
    "def hover_fn(trace, points, state):\n",
    "    ind = points.point_inds[0]\n",
    "    ca = community_areas_crime.iloc[ind]['Community Area']\n",
    "    ca_data = crimes_by_community_and_year[crimes_by_community_and_year['Community Area'] == ca]\n",
    "    fig.update_traces(hovertemplate='<b>Community Area:</b> %{location}<br>' +\n",
    "                                     '<b>Crime Count:</b> %{z}<br>' +\n",
    "                                     '<extra><b>Historical Crime Trend:</b><br>' +\n",
    "                                     \"{}</extra>\".format(ca_data.to_html(index=False)),text=ca_name)\n",
    "\n",
    "fig.data[0].on_hover(hover_fn)\n",
    "\n",
    "# Show the plot\n",
    "#fig.show()"
   ]
  },
  {
   "cell_type": "code",
   "execution_count": null,
   "id": "3f20e1ae",
   "metadata": {},
   "outputs": [],
   "source": []
  }
 ],
 "metadata": {
  "kernelspec": {
   "display_name": "Python 3",
   "language": "python",
   "name": "python3"
  },
  "language_info": {
   "codemirror_mode": {
    "name": "ipython",
    "version": 3
   },
   "file_extension": ".py",
   "mimetype": "text/x-python",
   "name": "python",
   "nbconvert_exporter": "python",
   "pygments_lexer": "ipython3",
   "version": "3.7.6"
  }
 },
 "nbformat": 4,
 "nbformat_minor": 5
}
