{
 "cells": [
  {
   "cell_type": "code",
   "execution_count": 10,
   "id": "3ccb9dfa",
   "metadata": {},
   "outputs": [],
   "source": [
    "import pandas as pd\n",
    "import folium\n",
    "from folium.plugins import MarkerCluster\n"
   ]
  },
  {
   "cell_type": "code",
   "execution_count": null,
   "id": "2dc76a35",
   "metadata": {},
   "outputs": [],
   "source": [
    "#https://data.cityofchicago.org/d/bvhm-srwn\n",
    "\n",
    "#https://data.cityofchicago.org/d/y5ck-7s96"
   ]
  },
  {
   "cell_type": "code",
   "execution_count": 2,
   "id": "6c222c8c",
   "metadata": {},
   "outputs": [],
   "source": [
    "# Load the dataset\n",
    "df = pd.read_csv('Crimes_-_2001_to_Present (1).csv')\n"
   ]
  },
  {
   "cell_type": "code",
   "execution_count": 11,
   "id": "2345f388",
   "metadata": {},
   "outputs": [],
   "source": [
    "# Reset index after drop\n",
    "df=df.dropna(axis=0).reset_index(drop=True)"
   ]
  },
  {
   "cell_type": "code",
   "execution_count": 30,
   "id": "0619e518",
   "metadata": {},
   "outputs": [],
   "source": [
    "def violent_crimes(df, years):\n",
    "    for i in years:\n",
    "        # Filter the dataset for violent crimes from the year i\n",
    "        df_violent = df[(df['Primary Type'].isin(['ASSAULT', 'BATTERY', 'CRIMINAL SEXUAL ASSAULT', 'HOMICIDE', 'KIDNAPPING', 'SEX OFFENSE', 'ROBBERY'])) & (df['Year'] == i)]\n",
    "        # Create a map centered on Chicago\n",
    "        map_chicago = folium.Map(location=[41.8781, -87.6298], zoom_start=10)\n",
    "        # create a marker cluster layer\n",
    "        marker_cluster = MarkerCluster().add_to(map_chicago)\n",
    "        # add markers for each violent crime\n",
    "        for index, row in df_violent.iterrows():\n",
    "            folium.Marker([row['Latitude'], row['Longitude']]).add_to(marker_cluster)\n",
    "        map_chicago.save(outfile= \"{}.html\".format(i))\n",
    "        \n",
    "violent_crimes(df, years = [2002,2007,2012,2017,2022])"
   ]
  }
 ],
 "metadata": {
  "kernelspec": {
   "display_name": "Python 3",
   "language": "python",
   "name": "python3"
  },
  "language_info": {
   "codemirror_mode": {
    "name": "ipython",
    "version": 3
   },
   "file_extension": ".py",
   "mimetype": "text/x-python",
   "name": "python",
   "nbconvert_exporter": "python",
   "pygments_lexer": "ipython3",
   "version": "3.7.6"
  }
 },
 "nbformat": 4,
 "nbformat_minor": 5
}
